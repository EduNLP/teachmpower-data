{
 "cells": [
  {
   "cell_type": "markdown",
   "id": "495f6ef0-ee46-4de3-a721-3f7eb35075e6",
   "metadata": {},
   "source": [
    "# The Hewlett Foundation: Automated Essay Scoring Dataset\n",
    "\n",
    "## Description\n",
    "This dataset was created for the William and Flora Hewlett Foundation (Hewlett) Automated Student Assessment Prize (ASAP). The dataset is hand scored essays for 8 different prompts.\n",
    "\n",
    "### Data Sources\n",
    "\n",
    "- [Link to Kaggle](https://www.kaggle.com/competitions/asap-aes/overview)\n",
    "- [Link to Data Source](https://osf.io/9fdrw/)"
   ]
  },
  {
   "cell_type": "code",
   "execution_count": null,
   "id": "255285b2-2595-438c-af51-7e635dc10060",
   "metadata": {},
   "outputs": [],
   "source": [
    "import zipfile\n",
    "import os\n",
    "import pandas as pd"
   ]
  },
  {
   "cell_type": "code",
   "execution_count": null,
   "id": "2dd9d21b-53a2-43d1-a922-184959ebe82c",
   "metadata": {},
   "outputs": [],
   "source": [
    "# Extract files from dataset\n",
    "\n",
    "with zipfile.ZipFile('asap-aes.zip', 'r') as zip_ref:\n",
    "    zip_ref.extractall('asap-aes')"
   ]
  },
  {
   "cell_type": "code",
   "execution_count": null,
   "id": "0b09a7c0-ed2a-4d34-8d81-d71d21d031d7",
   "metadata": {},
   "outputs": [],
   "source": [
    "data_filepath = './asap-aes'\n",
    "\n",
    "# Load train, test, and validation data into pandas dataframes\n",
    "train = pd.read_csv(os.path.join(data_filepath, 'training_set_rel3.tsv'), delimiter='\\t', encoding='ISO-8859-1')\n",
    "test = pd.read_csv(os.path.join(data_filepath, 'test_set.tsv'), delimiter='\\t', encoding='ISO-8859-1')\n",
    "validation = pd.read_csv(os.path.join(data_filepath, 'valid_set.tsv'), delimiter='\\t', encoding='ISO-8859-1')"
   ]
  },
  {
   "cell_type": "code",
   "execution_count": null,
   "id": "5793ef92-2784-4dc9-870b-a10149288264",
   "metadata": {},
   "outputs": [],
   "source": [
    "# Only keep essay, essay_set, and essay_id columns\n",
    "train = train[['essay_id', 'essay_set', 'essay']]\n",
    "test = test[['essay_id', 'essay_set', 'essay']]\n",
    "validation = validation[['essay_id', 'essay_set', 'essay']]\n",
    "\n",
    "# Only keep essay_set 1, 2 (these are the persuasive prompts)\n",
    "train = train[train['essay_set'].isin([1, 2])]\n",
    "test = test[test['essay_set'].isin([1, 2])]\n",
    "validation = validation[validation['essay_set'].isin([1, 2])]"
   ]
  },
  {
   "cell_type": "markdown",
   "id": "ecfb12bf",
   "metadata": {},
   "source": [
    "TOTAL ESSAYS:\n",
    "- 3583 essays in `train`\n",
    "- 1194 essays in `test`\n",
    "- 1189 essays in `validation`"
   ]
  }
 ],
 "metadata": {
  "kernelspec": {
   "display_name": "Python 3 (ipykernel)",
   "language": "python",
   "name": "python3"
  },
  "language_info": {
   "codemirror_mode": {
    "name": "ipython",
    "version": 3
   },
   "file_extension": ".py",
   "mimetype": "text/x-python",
   "name": "python",
   "nbconvert_exporter": "python",
   "pygments_lexer": "ipython3",
   "version": "3.8.18"
  }
 },
 "nbformat": 4,
 "nbformat_minor": 5
}
