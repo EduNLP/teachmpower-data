{
 "cells": [
  {
   "cell_type": "code",
   "execution_count": null,
   "metadata": {},
   "outputs": [],
   "source": [
    "!python3 -m pip install firebase_admin\n",
    "import firebase_admin\n",
    "from firebase_admin import credentials, firestore\n",
    "import pandas as pd\n",
    "\n",
    "# Initialize Firebase app\n",
    "cred = credentials.Certificate(\"tmp-feedback-test-firebase-adminsdk-flei0-26191ff34a.json\")\n",
    "firebase_admin.initialize_app(cred)\n",
    "db = firestore.client()"
   ]
  },
  {
   "cell_type": "code",
   "execution_count": 3,
   "metadata": {},
   "outputs": [],
   "source": [
    "# Load middle school essays\n",
    "ms_essays = pd.read_csv('ms_gen_edit_sample.csv')\n",
    "for index, row in ms_essays.iterrows():\n",
    "    doc_data = {\n",
    "        'assignmentInstructions': row['prompt'],\n",
    "        'assignmentTitle': row['type'].capitalize() + ' essay #' + str(row['essay_id']),\n",
    "        'tid1': int(row['tid1']),\n",
    "        'tid2': int(row['tid2']),\n",
    "        'grade': int(row['grade_level']),\n",
    "        'essay': row['essay']\n",
    "    }\n",
    "    db.document('annotation/' + str(row['essay_id'])).set(doc_data)"
   ]
  },
  {
   "cell_type": "code",
   "execution_count": 4,
   "metadata": {},
   "outputs": [],
   "source": [
    "# Load high school essays\n",
    "hs_essays = pd.read_csv('hs_gen_edit_sample.csv')\n",
    "for index, row in hs_essays.iterrows():\n",
    "    doc_data = {\n",
    "        'assignmentInstructions': row['prompt'],\n",
    "        'assignmentTitle': row['type'].capitalize() + ' essay #' + str(row['essay_id']),\n",
    "        'tid1': int(row['tid1']),\n",
    "        'tid2': int(row['tid2']),\n",
    "        'grade': int(row['grade_level']),\n",
    "        'essay': row['essay']\n",
    "    }\n",
    "    db.document('annotation/' + str(row['essay_id'])).set(doc_data)"
   ]
  }
 ],
 "metadata": {
  "kernelspec": {
   "display_name": "Python 3",
   "language": "python",
   "name": "python3"
  },
  "language_info": {
   "codemirror_mode": {
    "name": "ipython",
    "version": 3
   },
   "file_extension": ".py",
   "mimetype": "text/x-python",
   "name": "python",
   "nbconvert_exporter": "python",
   "pygments_lexer": "ipython3",
   "version": "3.10.1"
  },
  "orig_nbformat": 4
 },
 "nbformat": 4,
 "nbformat_minor": 2
}
