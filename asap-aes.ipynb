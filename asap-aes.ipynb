{
 "cells": [
  {
   "cell_type": "markdown",
   "id": "495f6ef0-ee46-4de3-a721-3f7eb35075e6",
   "metadata": {},
   "source": [
    "# The Hewlett Foundation: Automated Essay Scoring Dataset\n",
    "\n",
    "## Description\n",
    "This dataset was created for the William and Flora Hewlett Foundation (Hewlett) Automated Student Assessment Prize (ASAP). The dataset is hand scored essays for 8 different prompts.\n",
    "\n",
    "### Data Sources\n",
    "\n",
    "- [Link to Kaggle](https://www.kaggle.com/competitions/asap-aes/overview)\n",
    "- [Link to Data Source](https://osf.io/9fdrw/)"
   ]
  },
  {
   "cell_type": "code",
   "execution_count": 28,
   "id": "255285b2-2595-438c-af51-7e635dc10060",
   "metadata": {},
   "outputs": [],
   "source": [
    "!python3 -m pip install openpyxl\n",
    "import zipfile\n",
    "import os\n",
    "import pandas as pd"
   ]
  },
  {
   "cell_type": "code",
   "execution_count": 2,
   "id": "2dd9d21b-53a2-43d1-a922-184959ebe82c",
   "metadata": {},
   "outputs": [],
   "source": [
    "# Extract files from dataset\n",
    "\n",
    "with zipfile.ZipFile('asap-aes.zip', 'r') as zip_ref:\n",
    "    zip_ref.extractall('asap-aes')\n",
    "\n",
    "with zipfile.ZipFile('./asap-aes/Essay_Set_Descriptions.zip', 'r') as zip_ref:\n",
    "    zip_ref.extractall('descriptions')"
   ]
  },
  {
   "cell_type": "code",
   "execution_count": 46,
   "id": "0b09a7c0-ed2a-4d34-8d81-d71d21d031d7",
   "metadata": {},
   "outputs": [],
   "source": [
    "data_filepath = './asap-aes'\n",
    "\n",
    "# Load train, test, and validation data into pandas dataframes\n",
    "train = pd.read_csv(os.path.join(data_filepath, 'training_set_rel3.tsv'), delimiter='\\t', encoding='ISO-8859-1')\n",
    "test = pd.read_csv(os.path.join(data_filepath, 'test_set.tsv'), delimiter='\\t', encoding='ISO-8859-1')\n",
    "validation = pd.read_csv(os.path.join(data_filepath, 'valid_set.tsv'), delimiter='\\t', encoding='ISO-8859-1')"
   ]
  },
  {
   "cell_type": "code",
   "execution_count": 47,
   "id": "5793ef92-2784-4dc9-870b-a10149288264",
   "metadata": {},
   "outputs": [],
   "source": [
    "# Only keep essay, essay_set, and essay_id columns\n",
    "# For now, let's use the train set because it has the score (which we can use for stratified sampling)\n",
    "essay_data = train[['essay_id', 'essay_set', 'essay', 'domain1_score']]\n",
    "#test = test[['essay_id', 'essay_set', 'essay']]\n",
    "#validation = validation[['essay_id', 'essay_set', 'essay']]"
   ]
  },
  {
   "cell_type": "code",
   "execution_count": 48,
   "id": "0716dec7",
   "metadata": {},
   "outputs": [],
   "source": [
    "prompt_data = pd.read_excel('descriptions/Essay_Set_Descriptions/essay_set_descriptions.xlsx', sheet_name='Sheet1', header=0)"
   ]
  },
  {
   "cell_type": "code",
   "execution_count": 49,
   "id": "d7349b6a",
   "metadata": {},
   "outputs": [],
   "source": [
    "prompt_data = prompt_data[['essay_set', 'grade_level']]\n",
    "prompt_data['type'] = ['persuasive', 'persuasive', 'litanalysis', 'litanalysis', 'litanalysis', 'litanalysis', 'narrative', 'narrative']\n",
    "prompt_data['prompt'] = ['More and more people use computers, but not everyone agrees that this benefits society. Those who support advances in technology believe that computers have a positive effect on people. They teach hand-eye coordination, give people the ability to learn about faraway places and people, and even allow people to talk online with other people. Others have different ideas. Some experts are concerned that people are spending too much time on their computers and less time exercising, enjoying nature, and interacting with family and friends. Write a letter to your local newspaper in which you state your opinion on the effects computers have onpeople. Persuade the readers to agree with you.',\n",
    "                         '\"All of us can think of a book that we hope none of our children or any other children have taken off the shelf. But if I have the right to remove that book from the shelf -- that work I abhor -- then you also have exactly the same right and so does everyone else. And then we have no books left on the shelf for any ofus.\" --Katherine Paterson, Author \\nWrite a persuasive essay to a newspaper reflecting your views on censorship in libraries. Do you believe that certain materials, such as books, music, movies, magazines, etc., should be removed from the shelves if they are found offensive? Support your position with convincing arguments from your own experience, observations, and/or reading.',\n",
    "                         'Read \"ROUGH ROAD AHEAD: Do Not Exceed Posted Speed Limit\" by Joe Kurmaskie. Write a response that explains how the features of the setting affect the cyclist. In your response, include examples from the essay that support your conclusion.',\n",
    "                         'Read \"Winter Hibiscus\" by Minfong Ho. Read the last paragraph of the story. \\n\"When they come back, Saeng vowed silently to herself, in the spring, when the snows melt and the geese return and this hibiscus is budding, then I will take that test again.\" \\nWrite a response that explains why the author concludes the story with this paragraph. In your response, include details and examples from the story that support your ideas.',\n",
    "                         'Read \"Narciso Rodriguez\" by Narciso Rodriguez. Describe the mood created by the author in the memoir. Support your answer with relevant and specific information from the memoir.',\n",
    "                         'Read the excerpt from \"The Mooring Mast\" by Marcia Amidon Lüsted. Based on the excerpt, describe the obstacles the builders of the Empire State Building faced in attempting to allow dirigibles to dock there. Support your answer with relevant and specific information from the excerpt.',\n",
    "                         'Write about patience. Being patient means that you are understanding and tolerant. A patient person experience difficulties without complaining. Do only one of the following: write a story about a time when you were patient OR write a story about a time when someone you know was patient OR write a story in your own way about patience.',\n",
    "                         'We all understand the benefits of laughter. For example, someone once said, “Laughter is the shortest distance between two people.” Many other people believe that laughter is an important part of any relationship. Tell a true story in which laughter was one element or part.']\n",
    "prompt_data.to_csv('prompt_data.csv', index=False)\n",
    "prompt_data.to_csv('prompt_data.csv', index=False)\n",
    "merged_data = pd.merge(essay_data, prompt_data, on='essay_set', how='left')\n",
    "merged_data.to_csv('full_dataset.csv', index=False)"
   ]
  },
  {
   "cell_type": "markdown",
   "id": "ecfb12bf",
   "metadata": {},
   "source": [
    "TOTAL ESSAYS:\n",
    "- 3583 essays in `train`\n",
    "- 1194 essays in `test`\n",
    "- 1189 essays in `validation`"
   ]
  }
 ],
 "metadata": {
  "kernelspec": {
   "display_name": "Python 3 (ipykernel)",
   "language": "python",
   "name": "python3"
  },
  "language_info": {
   "codemirror_mode": {
    "name": "ipython",
    "version": 3
   },
   "file_extension": ".py",
   "mimetype": "text/x-python",
   "name": "python",
   "nbconvert_exporter": "python",
   "pygments_lexer": "ipython3",
   "version": "3.10.1"
  }
 },
 "nbformat": 4,
 "nbformat_minor": 5
}
