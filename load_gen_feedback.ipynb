{
 "cells": [
  {
   "cell_type": "markdown",
   "metadata": {},
   "source": [
    "## Setup\n",
    "Initialize firebase and openai dependencies."
   ]
  },
  {
   "cell_type": "code",
   "execution_count": null,
   "metadata": {},
   "outputs": [],
   "source": [
    "!python3 -m pip install firebase_admin\n",
    "import firebase_admin\n",
    "from firebase_admin import credentials, firestore\n",
    "import pandas as pd\n",
    "\n",
    "# Initialize Firebase app\n",
    "cred = credentials.Certificate(\"tmp-feedback-test-firebase-adminsdk-flei0-26191ff34a.json\")\n",
    "firebase_admin.initialize_app(cred)\n",
    "db = firestore.client()"
   ]
  },
  {
   "cell_type": "code",
   "execution_count": null,
   "metadata": {},
   "outputs": [],
   "source": [
    "!python3 -m pip install openai\n",
    "from openai import OpenAI\n",
    "import json\n",
    "\n",
    "with open('openai-stanford-api-key.json', 'r') as file:\n",
    "    data = json.load(file)\n",
    "\n",
    "client = OpenAI(\n",
    "   api_key=data['key'],\n",
    ")"
   ]
  },
  {
   "cell_type": "markdown",
   "metadata": {},
   "source": [
    "## For now, just generate for 1 test essay."
   ]
  },
  {
   "cell_type": "code",
   "execution_count": 8,
   "metadata": {},
   "outputs": [],
   "source": [
    "system_prompt = \"You are an {grade}th grade English Language Arts teacher.\"\n",
    "task_prompt = \"\"\"You will be provided information about a writing assignment and a piece of student writing, denoted by triple quotes. \n",
    "    Your task is to provide both inline feedback and a overall summary for your student's work.\n",
    "    \n",
    "    Your feedback should help your student see about how their work aligns with assignment instructions and evaluation standards, \n",
    "    help your student to reflect on and improve their writing process, and suggest specific actions they can take to revise and improve their work. \n",
    "\n",
    "    Your feedback should foreground the student's voice and meaning-making process and open up interpretive possibilities.\n",
    "    You should use conversational student-friendly language appropriate for {grade}th grade. \n",
    "\n",
    "    Format your response as JSON output with two fields, inlineFeedback and overallFeedback. \n",
    "    The field inlineFeedback should be a list of 3-7 pairs, each containing an exact 'excerpt' from the student's essay and a corresponding feedback 'comment'. \n",
    "    Choose short excerpts that are most directly relevant to the feedback comment. \n",
    "    The field overallFeedback should be a single text field. \n",
    "\n",
    "    Assignment Instructions: \\\"\\\"\\\"{instructions}\\\"\\\"\\\" \\n\n",
    "    Student Writing:\\\"\\\"\\\"{essay}\\\"\\\"\\\" \\n\n",
    "    \"\"\""
   ]
  },
  {
   "cell_type": "code",
   "execution_count": null,
   "metadata": {},
   "outputs": [],
   "source": [
    "import re\n",
    "\n",
    "def escape_reg_exp(text):\n",
    "    # Escapes special characters for regex\n",
    "    return re.escape(text)\n",
    "\n",
    "def create_flexible_pattern(excerpt):\n",
    "    # Normalize spaces and create a regex pattern\n",
    "    words = re.split(r'\\s+', excerpt.strip())\n",
    "    pattern = r'\\s+'.join(map(escape_reg_exp, words))\n",
    "    return re.compile(pattern, re.IGNORECASE)\n",
    "\n",
    "def find_excerpt_indices(original_text, excerpt):\n",
    "    flexible_pattern = create_flexible_pattern(excerpt)\n",
    "    match = flexible_pattern.search(original_text)\n",
    "\n",
    "    if match:\n",
    "        start_index = match.start()\n",
    "        end_index = match.end()\n",
    "        return {'start_index': start_index, 'end_index': end_index}\n",
    "\n",
    "    return None  # No match found"
   ]
  },
  {
   "cell_type": "code",
   "execution_count": null,
   "metadata": {},
   "outputs": [],
   "source": [
    "import json\n",
    "testessayid = 18271 # pick this known essay\n",
    "essay = db.document('annotation/' + str(testessayid)).get()\n",
    "essay_info = essay.to_dict()\n",
    "\n",
    "system = system_prompt.format(grade=essay_info['grade'])\n",
    "prompt = task_prompt.format(grade=essay_info['grade'], instructions=essay_info['assignmentInstructions'], essay=essay_info['essay'])\n",
    "\n",
    "response = client.chat.completions.create(\n",
    "  model=\"gpt-3.5-turbo\",\n",
    "  response_format={ \"type\": \"json_object\" },\n",
    "  messages=[\n",
    "    {\"role\": \"system\", \"content\": system},\n",
    "    {\"role\": \"user\", \"content\": prompt}\n",
    "  ]\n",
    ")\n",
    "\n",
    "res = response.choices[0].message.content\n",
    "#print(res)\n",
    "data = json.loads(res)\n",
    "#print(data['inlineFeedback'][0]['excerpt'])"
   ]
  },
  {
   "cell_type": "code",
   "execution_count": 22,
   "metadata": {},
   "outputs": [
    {
     "data": {
      "text/plain": [
       "update_time {\n",
       "  seconds: 1708894108\n",
       "  nanos: 910956000\n",
       "}"
      ]
     },
     "execution_count": 22,
     "metadata": {},
     "output_type": "execute_result"
    }
   ],
   "source": [
    "# load inline comments to firebase\n",
    "for index, value in enumerate(data['inlineFeedback']):\n",
    "    commentid = \"gencomment\" + str(index)\n",
    "    matches = find_excerpt_indices(essay_info['essay'], value['excerpt'])\n",
    "    if matches != None:\n",
    "        gen_inline_data = {\n",
    "            'excerpt': value['excerpt'],\n",
    "            'gen_comment': value['comment'],\n",
    "            'status': 'pending',\n",
    "            'startIndex': matches['start_index'],\n",
    "            'endIndex': matches['end_index'],\n",
    "        }\n",
    "        db.document('annotation/' + str(testessayid) + '/genInlineFeedback/' + commentid).set(gen_inline_data)\n",
    "\n",
    "# load overall feedback to firebase\n",
    "gen_overall_data = {\n",
    "    'gen_text': data['overallFeedback'],\n",
    "}\n",
    "db.document('annotation/' + str(testessayid) + '/genOverallFeedback/data').set(gen_overall_data)"
   ]
  }
 ],
 "metadata": {
  "kernelspec": {
   "display_name": "Python 3",
   "language": "python",
   "name": "python3"
  },
  "language_info": {
   "codemirror_mode": {
    "name": "ipython",
    "version": 3
   },
   "file_extension": ".py",
   "mimetype": "text/x-python",
   "name": "python",
   "nbconvert_exporter": "python",
   "pygments_lexer": "ipython3",
   "version": "3.10.1"
  },
  "orig_nbformat": 4
 },
 "nbformat": 4,
 "nbformat_minor": 2
}
